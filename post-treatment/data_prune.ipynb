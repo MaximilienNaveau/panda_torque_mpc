{
 "cells": [
  {
   "cell_type": "code",
   "execution_count": 1,
   "metadata": {},
   "outputs": [
    {
     "name": "stderr",
     "output_type": "stream",
     "text": [
      "/tmp/ipykernel_32241/3611703804.py:1: DeprecationWarning: \n",
      "Pyarrow will become a required dependency of pandas in the next major release of pandas (pandas 3.0),\n",
      "(to allow more performant data types, such as the Arrow string type, and better interoperability with other libraries)\n",
      "but was not found to be installed on your system.\n",
      "If this would cause problems for you,\n",
      "please provide us feedback at https://github.com/pandas-dev/pandas/issues/54466\n",
      "        \n",
      "  import pandas as pd\n"
     ]
    }
   ],
   "source": [
    "import pandas as pd\n",
    "import bagpy\n",
    "import pickle\n",
    "import pathlib\n",
    "import pinocchio as pin\n",
    "import hppfcl as fcl\n",
    "\n",
    "import numpy as np\n",
    "import matplotlib.pyplot as plt\n",
    "import seaborn as sns\n",
    "\n",
    "from panda_loader import load_panda"
   ]
  },
  {
   "cell_type": "markdown",
   "metadata": {},
   "source": [
    "### Convert ROS bag file to pickle"
   ]
  },
  {
   "cell_type": "code",
   "execution_count": 13,
   "metadata": {},
   "outputs": [
    {
     "name": "stdout",
     "output_type": "stream",
     "text": [
      "[INFO]  Data folder /home/arthur/Desktop/Code/forks/panda_torque_mpc/post-treatment/bags/col_pair_comparison/2024-01-22-21-43-19_2_collision_pairs already exists. Not creating.\n"
     ]
    },
    {
     "ename": "FileNotFoundError",
     "evalue": "[Errno 2] No such file or directory: '/home/arthur/Desktop/Code/forks/panda_torque_mpc/post-treatment/pickle/col_pair_comparison/2024-01-22-21-43-19_2_collision_pairs.pkl'",
     "output_type": "error",
     "traceback": [
      "\u001b[0;31m---------------------------------------------------------------------------\u001b[0m",
      "\u001b[0;31mFileNotFoundError\u001b[0m                         Traceback (most recent call last)",
      "Cell \u001b[0;32mIn[13], line 16\u001b[0m\n\u001b[1;32m     14\u001b[0m pathlib\u001b[38;5;241m.\u001b[39mPath(bag_path_col_pair)\u001b[38;5;241m.\u001b[39mmkdir(parents\u001b[38;5;241m=\u001b[39m\u001b[38;5;28;01mTrue\u001b[39;00m, exist_ok\u001b[38;5;241m=\u001b[39m\u001b[38;5;28;01mTrue\u001b[39;00m)\n\u001b[1;32m     15\u001b[0m \u001b[38;5;28;01mfor\u001b[39;00m file \u001b[38;5;129;01min\u001b[39;00m bag_path_col_pair\u001b[38;5;241m.\u001b[39mglob(\u001b[38;5;124m\"\u001b[39m\u001b[38;5;124m*.bag\u001b[39m\u001b[38;5;124m\"\u001b[39m):\n\u001b[0;32m---> 16\u001b[0m     \u001b[43mextract_data\u001b[49m\u001b[43m(\u001b[49m\u001b[43mfile\u001b[49m\u001b[38;5;241;43m.\u001b[39;49m\u001b[43mas_posix\u001b[49m\u001b[43m(\u001b[49m\u001b[43m)\u001b[49m\u001b[43m,\u001b[49m\u001b[43m \u001b[49m\u001b[43mpkl_path\u001b[49m\u001b[43m \u001b[49m\u001b[38;5;241;43m/\u001b[39;49m\u001b[43m \u001b[49m\u001b[43mfile\u001b[49m\u001b[38;5;241;43m.\u001b[39;49m\u001b[43mwith_suffix\u001b[49m\u001b[43m(\u001b[49m\u001b[38;5;124;43m'\u001b[39;49m\u001b[38;5;124;43m.pkl\u001b[39;49m\u001b[38;5;124;43m'\u001b[39;49m\u001b[43m)\u001b[49m\u001b[38;5;241;43m.\u001b[39;49m\u001b[43mname\u001b[49m\u001b[43m)\u001b[49m\n",
      "Cell \u001b[0;32mIn[13], line 8\u001b[0m, in \u001b[0;36mextract_data\u001b[0;34m(in_file, out_file)\u001b[0m\n\u001b[1;32m      5\u001b[0m     df \u001b[38;5;241m=\u001b[39m pd\u001b[38;5;241m.\u001b[39mread_csv(bag\u001b[38;5;241m.\u001b[39mmessage_by_topic(topic))\n\u001b[1;32m      6\u001b[0m     topic_data\u001b[38;5;241m.\u001b[39mappend(df[df\u001b[38;5;241m.\u001b[39mcolumns\u001b[38;5;241m.\u001b[39mdrop(\u001b[38;5;28mlist\u001b[39m(df\u001b[38;5;241m.\u001b[39mfilter(regex\u001b[38;5;241m=\u001b[39m\u001b[38;5;124m'\u001b[39m\u001b[38;5;124mhead\u001b[39m\u001b[38;5;124m'\u001b[39m)))])\n\u001b[0;32m----> 8\u001b[0m \u001b[38;5;28;01mwith\u001b[39;00m \u001b[38;5;28;43mopen\u001b[39;49m\u001b[43m(\u001b[49m\u001b[43mout_file\u001b[49m\u001b[43m,\u001b[49m\u001b[43m \u001b[49m\u001b[38;5;124;43m\"\u001b[39;49m\u001b[38;5;124;43mwb\u001b[39;49m\u001b[38;5;124;43m\"\u001b[39;49m\u001b[43m)\u001b[49m \u001b[38;5;28;01mas\u001b[39;00m handle:\n\u001b[1;32m      9\u001b[0m     pickle\u001b[38;5;241m.\u001b[39mdump(topic_data, handle, protocol\u001b[38;5;241m=\u001b[39mpickle\u001b[38;5;241m.\u001b[39mHIGHEST_PROTOCOL)\n",
      "File \u001b[0;32m~/miniforge3/envs/pino2/lib/python3.11/site-packages/IPython/core/interactiveshell.py:310\u001b[0m, in \u001b[0;36m_modified_open\u001b[0;34m(file, *args, **kwargs)\u001b[0m\n\u001b[1;32m    303\u001b[0m \u001b[38;5;28;01mif\u001b[39;00m file \u001b[38;5;129;01min\u001b[39;00m {\u001b[38;5;241m0\u001b[39m, \u001b[38;5;241m1\u001b[39m, \u001b[38;5;241m2\u001b[39m}:\n\u001b[1;32m    304\u001b[0m     \u001b[38;5;28;01mraise\u001b[39;00m \u001b[38;5;167;01mValueError\u001b[39;00m(\n\u001b[1;32m    305\u001b[0m         \u001b[38;5;124mf\u001b[39m\u001b[38;5;124m\"\u001b[39m\u001b[38;5;124mIPython won\u001b[39m\u001b[38;5;124m'\u001b[39m\u001b[38;5;124mt let you open fd=\u001b[39m\u001b[38;5;132;01m{\u001b[39;00mfile\u001b[38;5;132;01m}\u001b[39;00m\u001b[38;5;124m by default \u001b[39m\u001b[38;5;124m\"\u001b[39m\n\u001b[1;32m    306\u001b[0m         \u001b[38;5;124m\"\u001b[39m\u001b[38;5;124mas it is likely to crash IPython. If you know what you are doing, \u001b[39m\u001b[38;5;124m\"\u001b[39m\n\u001b[1;32m    307\u001b[0m         \u001b[38;5;124m\"\u001b[39m\u001b[38;5;124myou can use builtins\u001b[39m\u001b[38;5;124m'\u001b[39m\u001b[38;5;124m open.\u001b[39m\u001b[38;5;124m\"\u001b[39m\n\u001b[1;32m    308\u001b[0m     )\n\u001b[0;32m--> 310\u001b[0m \u001b[38;5;28;01mreturn\u001b[39;00m \u001b[43mio_open\u001b[49m\u001b[43m(\u001b[49m\u001b[43mfile\u001b[49m\u001b[43m,\u001b[49m\u001b[43m \u001b[49m\u001b[38;5;241;43m*\u001b[39;49m\u001b[43margs\u001b[49m\u001b[43m,\u001b[49m\u001b[43m \u001b[49m\u001b[38;5;241;43m*\u001b[39;49m\u001b[38;5;241;43m*\u001b[39;49m\u001b[43mkwargs\u001b[49m\u001b[43m)\u001b[49m\n",
      "\u001b[0;31mFileNotFoundError\u001b[0m: [Errno 2] No such file or directory: '/home/arthur/Desktop/Code/forks/panda_torque_mpc/post-treatment/pickle/col_pair_comparison/2024-01-22-21-43-19_2_collision_pairs.pkl'"
     ]
    }
   ],
   "source": [
    "def extract_data(in_file: str, out_file: str) -> pd.DataFrame:\n",
    "    bag = bagpy.bagreader(in_file)\n",
    "    topic_data = []\n",
    "    for topic in bag.topics:\n",
    "        df = pd.read_csv(bag.message_by_topic(topic))\n",
    "        topic_data.append(df[df.columns.drop(list(df.filter(regex='head')))])\n",
    "\n",
    "    with open(out_file, \"wb\") as handle:\n",
    "        pickle.dump(topic_data, handle, protocol=pickle.HIGHEST_PROTOCOL)\n",
    "\n",
    "\n",
    "bag_path_col_pair = pathlib.Path().resolve() / \"bags/col_pair_comparison\"\n",
    "pkl_path = pathlib.Path().resolve() / \"pickle/col_pair_comparison\"\n",
    "pathlib.Path(bag_path_col_pair).mkdir(parents=True, exist_ok=True)\n",
    "for file in bag_path_col_pair.glob(\"*.bag\"):\n",
    "    extract_data(file.as_posix(), pkl_path / file.with_suffix('.pkl').name)"
   ]
  },
  {
   "cell_type": "code",
   "execution_count": 6,
   "metadata": {},
   "outputs": [],
   "source": [
    "for file in pkl_path.glob(\"*.pkl\"):\n",
    "    with open(file, \"rb\") as handle:\n",
    "        b = pickle.load(handle)"
   ]
  },
  {
   "cell_type": "code",
   "execution_count": 7,
   "metadata": {},
   "outputs": [
    {
     "ename": "NameError",
     "evalue": "name 'b' is not defined",
     "output_type": "error",
     "traceback": [
      "\u001b[0;31m---------------------------------------------------------------------------\u001b[0m",
      "\u001b[0;31mNameError\u001b[0m                                 Traceback (most recent call last)",
      "Cell \u001b[0;32mIn[7], line 1\u001b[0m\n\u001b[0;32m----> 1\u001b[0m \u001b[38;5;28mprint\u001b[39m(\u001b[43mb\u001b[49m[\u001b[38;5;241m1\u001b[39m][\u001b[38;5;124m\"\u001b[39m\u001b[38;5;124mfeedforward.data\u001b[39m\u001b[38;5;124m\"\u001b[39m][\u001b[38;5;241m0\u001b[39m])\n",
      "\u001b[0;31mNameError\u001b[0m: name 'b' is not defined"
     ]
    }
   ],
   "source": [
    "print(b[1][\"feedforward.data\"][0])"
   ]
  },
  {
   "cell_type": "markdown",
   "metadata": {},
   "source": [
    "https://seaborn.pydata.org/examples/grouped_boxplot.html this one is nice\n"
   ]
  },
  {
   "cell_type": "code",
   "execution_count": 104,
   "metadata": {},
   "outputs": [
    {
     "name": "stderr",
     "output_type": "stream",
     "text": [
      "/home/krzysiek/miniconda3/envs/analyze/lib/python3.12/site-packages/seaborn/_oldcore.py:1498: FutureWarning: is_categorical_dtype is deprecated and will be removed in a future version. Use isinstance(dtype, CategoricalDtype) instead\n",
      "  if pd.api.types.is_categorical_dtype(vector):\n"
     ]
    },
    {
     "data": {
      "text/plain": [
       "Text(0, 0.5, 'TODO NAME THIS AXIS')"
      ]
     },
     "execution_count": 104,
     "metadata": {},
     "output_type": "execute_result"
    },
    {
     "data": {
      "image/png": "[encoded data removed]",
      "text/plain": [
       "<Figure size 640x480 with 1 Axes>"
      ]
     },
     "metadata": {},
     "output_type": "display_data"
    }
   ],
   "source": [
    "sns.boxplot(b[2], x = \"data.nsecs\")\n",
    "plt.xlabel(\"Solver time [ms]\")\n",
    "plt.ylabel(\"TODO NAME THIS AXIS\")"
   ]
  },
  {
   "cell_type": "markdown",
   "metadata": {},
   "source": [
    "### Distance to obstacle"
   ]
  },
  {
   "cell_type": "code",
   "execution_count": 2,
   "metadata": {},
   "outputs": [],
   "source": [
    "rmodel, cmodel = load_panda()"
   ]
  },
  {
   "cell_type": "code",
   "execution_count": 3,
   "metadata": {},
   "outputs": [],
   "source": [
    "def compute_minimal_distances_between_collision_pairs(q):\n",
    "\n",
    "    # Creates data models\n",
    "    rdata = rmodel.createData()\n",
    "    cdata = cmodel.createData()\n",
    "\n",
    "    # Updating the models\n",
    "    pin.framesForwardKinematics(rmodel, rdata, q)\n",
    "    pin.updateGeometryPlacements(rmodel, rdata, cmodel, cdata, q)\n",
    "\n",
    "    # HPPFCL Queries\n",
    "    req = fcl.DistanceRequest()\n",
    "    res = fcl.DistanceResult()\n",
    "\n",
    "    # List storing all the distances, from the first collision pair to the last in the order of addition in the collision model\n",
    "    list_dist = []\n",
    "    # Going through all the collision pairs\n",
    "    for col_pair in cmodel.collisionPairs:\n",
    "        # Geometry objects ID in the collision model\n",
    "        pair1_id = col_pair.first\n",
    "        pair2_id = col_pair.second\n",
    "\n",
    "        dist = fcl.distance(\n",
    "            cmodel.geometryObjects[pair1_id].geometry,\n",
    "            cdata.oMg[pair1_id],\n",
    "            cmodel.geometryObjects[pair2_id].geometry,\n",
    "            cdata.oMg[pair2_id],\n",
    "            req,\n",
    "            res,\n",
    "        )\n",
    "        list_dist.append(dist)\n",
    "    return list_dist"
   ]
  },
  {
   "cell_type": "code",
   "execution_count": 11,
   "metadata": {},
   "outputs": [
    {
     "name": "stdout",
     "output_type": "stream",
     "text": [
      "panda2_rightfinger_0-obstacle : 0.7587475966527489 \n",
      " \n",
      "panda2_leftfinger_0-obstacle : 0.7412001320788593 \n",
      " \n",
      "panda2_link7_sc_1-obstacle : 0.7930169796299097 \n",
      " \n",
      "panda2_link7_sc_4-obstacle : 0.7745538637757287 \n",
      " \n"
     ]
    }
   ],
   "source": [
    "q = pin.neutral(rmodel)\n",
    " \n",
    "list_dist = compute_minimal_distances_between_collision_pairs(q)\n",
    "\n",
    "print(f\"panda2_rightfinger_0-obstacle : {list_dist[0]} \\n \")\n",
    "print(f\"panda2_leftfinger_0-obstacle : {list_dist[1]} \\n \")\n",
    "print(f\"panda2_link7_sc_1-obstacle : {list_dist[2]} \\n \")\n",
    "print(f\"panda2_link7_sc_4-obstacle : {list_dist[3]} \\n \")"
   ]
  },
  {
   "cell_type": "code",
   "execution_count": null,
   "metadata": {},
   "outputs": [],
   "source": [
    "sns.lineplot(b[2], x = \"data.nsecs\")\n",
    "plt.xlabel(\"Solver time [ns]\")\n",
    "plt.ylabel(\"TODO NAME THIS AXIS\")"
   ]
  },
  {
   "cell_type": "code",
   "execution_count": 137,
   "metadata": {},
   "outputs": [
    {
     "data": {
      "text/plain": [
       "[0.0362813099492616,\n",
       " 0.46806776229276537,\n",
       " 0.2767158982469953,\n",
       " -2.033111264234318,\n",
       " -0.19712173451223602,\n",
       " 2.461874062370896,\n",
       " 1.2236552863195174]"
      ]
     },
     "execution_count": 137,
     "metadata": {},
     "output_type": "execute_result"
    }
   ],
   "source": [
    "list(eval(b[3][\"joint_state.position\"][0]))"
   ]
  },
  {
   "cell_type": "code",
   "execution_count": null,
   "metadata": {},
   "outputs": [],
   "source": []
  }
 ],
 "metadata": {
  "kernelspec": {
   "display_name": "analyze",
   "language": "python",
   "name": "python3"
  },
  "language_info": {
   "codemirror_mode": {
    "name": "ipython",
    "version": 3
   },
   "file_extension": ".py",
   "mimetype": "text/x-python",
   "name": "python",
   "nbconvert_exporter": "python",
   "pygments_lexer": "ipython3",
   "version": "3.11.7"
  }
 },
 "nbformat": 4,
 "nbformat_minor": 2
}
